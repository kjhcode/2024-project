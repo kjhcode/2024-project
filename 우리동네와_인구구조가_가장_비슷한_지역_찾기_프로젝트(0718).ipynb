{
  "nbformat": 4,
  "nbformat_minor": 0,
  "metadata": {
    "kernelspec": {
      "display_name": "Python 3",
      "language": "python",
      "name": "python3"
    },
    "language_info": {
      "codemirror_mode": {
        "name": "ipython",
        "version": 3
      },
      "file_extension": ".py",
      "mimetype": "text/x-python",
      "name": "python",
      "nbconvert_exporter": "python",
      "pygments_lexer": "ipython3",
      "version": "3.7.1"
    },
    "colab": {
      "provenance": [],
      "include_colab_link": true
    }
  },
  "cells": [
    {
      "cell_type": "markdown",
      "metadata": {
        "id": "view-in-github",
        "colab_type": "text"
      },
      "source": [
        "<a href=\"https://colab.research.google.com/github/kjhcode/2024-project/blob/main/%EC%9A%B0%EB%A6%AC%EB%8F%99%EB%84%A4%EC%99%80_%EC%9D%B8%EA%B5%AC%EA%B5%AC%EC%A1%B0%EA%B0%80_%EA%B0%80%EC%9E%A5_%EB%B9%84%EC%8A%B7%ED%95%9C_%EC%A7%80%EC%97%AD_%EC%B0%BE%EA%B8%B0_%ED%94%84%EB%A1%9C%EC%A0%9D%ED%8A%B8(0718).ipynb\" target=\"_parent\"><img src=\"https://colab.research.google.com/assets/colab-badge.svg\" alt=\"Open In Colab\"/></a>"
      ]
    },
    {
      "cell_type": "markdown",
      "source": [
        "## 미션 : 우리 동네 인구 구조와 가장 비슷한 곳을 찾아보자!!!   \n",
        "\n",
        "인구 데이터 : 인구 통계의 변화는 미래와 관련된 것 가운데 정확한 예측을 할 수 있는 유일한 사실'이라는 피터 드러커의 말처럼 인구 데이터는 미래를 이해하는데 중요한 데이터이다.\n",
        "\n",
        "**인구 데이터를 보면서 떠오르는 질문?**   \n",
        "1. 전국에서 영유아가 가장 많이 사는 지역은 어디일까?\n",
        "2. 보통 학군이 좋다고 알려진 지역에는 청소년이 많이 살까?\n",
        "3. 광역시 데이터를 10년 단위로 살펴보면 청년 비율이 줄고 있다는 사실을 알 수 있을까?\n",
        "4. 서울에서 지난 5년간 인구가 가장 많이 증가한 구는 어디일까?\n",
        "5. 우리 동네의 인구 구조와 가장 비슷한 동네는 어디일까?"
      ],
      "metadata": {
        "id": "Oc8wDVeMiwOP"
      }
    },
    {
      "cell_type": "markdown",
      "source": [
        "**질문을 구체적으로**   \n",
        "1. 전국에 있는 읍면동 중 만 0세~6세 이하의 인구 비율이 높은 상위 10곳은 어디일까?\n",
        "2. 청소년은 만 13세~19세 미만의 인구/청년은 만19세 이상의 인구로 구체적인 나이를 언급한 질문이 필요\n",
        "3. 전국에서 ooo동의 연령별 인구 구조와 가장 형태가 비슷한 지역은 어디일까?"
      ],
      "metadata": {
        "id": "f6uxNWzTkHeh"
      }
    },
    {
      "cell_type": "markdown",
      "source": [
        "**문제 해결 방법**   \n",
        "1. 데이터를 읽어온다.\n",
        "2. 궁금한 지역의 이름을 입력한다.\n",
        "3. 궁금한 지역의 인구구조를 저장한다.\n",
        "4. 궁금한 지역의 인구 구조와 가장 비슷한 인구 구조를 가진 지역을 찾는다.\n",
        "5. 가장 비슷한 곳의 인구구조와 궁금한 지역의 인구 구조를 시각화한다."
      ],
      "metadata": {
        "id": "50PlbA98k3kF"
      }
    },
    {
      "cell_type": "markdown",
      "source": [
        "# 어떤 과정을 거치면 우리 동네 인구구조와 가장 비슷한 지역을 찾을 수 있을까?   \n",
        "1) 계획대로 한번에 완성되는 경우는 없습니다.   \n",
        "2) 일단 가장 기본적인 부분부터 작게 만들어 보고 점점 확대해 나가는 것이 방법입니다.   \n",
        "3) 실수와 반복을 통해 성장할 수 있습니다.   \n",
        "\n",
        "www.mois.go.kr   정책자료-통계 - 주민등록 인구 통계   \n",
        "연령별 인구현황 - 통계표 - 조회기간(2024년 5월~2024년 5월) - 구분(남여구분 체크해지) - 연령구분단위(1세) - 연령조회범위(0세~100세)검색   \n",
        "전체읍면동현황 클릭 - csv 다운로드(age.csv)\n",
        "\n",
        "**age.csv 열기   \n",
        "1) 찾기(2024년05월_계_) 바꾸기(공백)   \n",
        "2) age1.csv   \n",
        "3) 메모장에서 열기  \n",
        "4) 파일 - 다른이름으로 저장 - age.csv - 인코당(utf-8) - 저장"
      ],
      "metadata": {
        "id": "8k59htdtv5YK"
      }
    },
    {
      "cell_type": "markdown",
      "source": [
        "**★ 그래프 사용시 한글 폰트 지원 설치**"
      ],
      "metadata": {
        "id": "L9_KS-AdqbVm"
      }
    },
    {
      "cell_type": "code",
      "source": [
        "!sudo apt-get install -y fonts-nanum\n",
        "!sudo fc-cache -fv\n",
        "!rm ~/.cache/matplotlib -rf"
      ],
      "metadata": {
        "id": "IaxyJkKGFVAA"
      },
      "execution_count": null,
      "outputs": []
    },
    {
      "cell_type": "markdown",
      "source": [
        "**succeeded 나타나면 : 런타임 - 세션 다시 시작**\n",
        "\n",
        "\n"
      ],
      "metadata": {
        "id": "jVzkkYVUydBH"
      }
    },
    {
      "cell_type": "markdown",
      "source": [
        "**1. 데이터 읽어오기**"
      ],
      "metadata": {
        "id": "c2rkZKqelPMB"
      }
    },
    {
      "cell_type": "code",
      "source": [
        "import csv\n",
        "f=open('age.csv')\n",
        "data=csv.reader(f)\n",
        "\n",
        "for row in data:\n",
        "  print(row)"
      ],
      "metadata": {
        "id": "Paa9bSLBwYd6"
      },
      "execution_count": null,
      "outputs": []
    },
    {
      "cell_type": "code",
      "source": [
        "import csv\n",
        "f=open('age.csv')\n",
        "data=csv.reader(f)\n",
        "\n",
        "for row in data:\n",
        "  if '광주광역시 북구 문흥1동(2917065600)' == row[0]:\n",
        "    print(row)"
      ],
      "metadata": {
        "id": "EBdj14PGBdFt"
      },
      "execution_count": null,
      "outputs": []
    },
    {
      "cell_type": "code",
      "source": [
        "import csv\n",
        "f=open('age.csv')\n",
        "data=csv.reader(f)\n",
        "\n",
        "for row in data:\n",
        "  if '문흥1동' in row[0]:\n",
        "    print(row)"
      ],
      "metadata": {
        "id": "ChBWOC2LBwIc"
      },
      "execution_count": null,
      "outputs": []
    },
    {
      "cell_type": "code",
      "source": [
        "import csv\n",
        "f=open('age.csv')\n",
        "data=csv.reader(f)\n",
        "\n",
        "for row in data:\n",
        "  if '문흥' in row[0]:\n",
        "    for i in row[3:]:\n",
        "      print(i)"
      ],
      "metadata": {
        "id": "QDDyiX1fB-yL"
      },
      "execution_count": null,
      "outputs": []
    },
    {
      "cell_type": "markdown",
      "source": [
        "**2. 궁금한 지역의 이름을 입력받는다.**   \n",
        "name변수에 궁금한 지역의 이름을 입력받는다."
      ],
      "metadata": {
        "id": "Ved9CbAfn_4p"
      }
    },
    {
      "cell_type": "code",
      "source": [
        "name=input(\"인구 구조가 알고 싶은 지역의 이름(읍면동 단위)을 입력해주세요:\")"
      ],
      "metadata": {
        "id": "ZETlx7uEoKou"
      },
      "execution_count": null,
      "outputs": []
    },
    {
      "cell_type": "code",
      "source": [
        "import csv\n",
        "f=open('age.csv')\n",
        "data=csv.reader(f)\n",
        "next(data)\n",
        "result=[]   #입력받은 지역의 데이터를 저장할 리스트 생성\n",
        "\n",
        "name=input(\"인구 구조가 알고 싶은 지역의 이름(읍면동 단위)을 입력해주세요:\")\n",
        "\n",
        "for row in data:\n",
        "  if name in row[0]:   #입력받은 지역의 이름이 포함된 행 찾기\n",
        "    for i in row[3:]:  #3번 인덱스 값부터 슬라이싱\n",
        "      result.append(int(i))  #입력받은 지역의 데이터를 result에 저장\n",
        "print(result)"
      ],
      "metadata": {
        "id": "p2fiEXKloRyM"
      },
      "execution_count": null,
      "outputs": []
    },
    {
      "cell_type": "markdown",
      "source": [
        "**3. 그래프로 표현해보자**"
      ],
      "metadata": {
        "id": "dgg_UtKTpbj-"
      }
    },
    {
      "cell_type": "code",
      "source": [
        "import csv\n",
        "f=open('age.csv')\n",
        "data=csv.reader(f)\n",
        "next(data)\n",
        "result=[]   #입력받은 지역의 데이터를 저장할 리스트 생성\n",
        "\n",
        "name=input(\"인구 구조가 알고 싶은 지역의 이름(읍면동 단위)을 입력해주세요:\")\n",
        "\n",
        "for row in data:\n",
        "  if name in row[0]:   #입력받은 지역의 이름이 포함된 행 찾기\n",
        "    for i in row[3:]:  #3번 인덱스 값부터 슬라이싱\n",
        "      result.append(int(i))  #입력받은 지역의 데이터를 result에 저장\n",
        "print(result)\n",
        "\n",
        "import matplotlib.pyplot as plt\n",
        "plt.rc('font', family = 'NanumGothic')\n",
        "plt.title(name+\"지역의 인구구조\")\n",
        "plt.plot(result)\n",
        "plt.show()"
      ],
      "metadata": {
        "id": "vnZbcxZppX-0"
      },
      "execution_count": null,
      "outputs": []
    },
    {
      "cell_type": "code",
      "source": [
        "import csv\n",
        "f=open('age.csv')\n",
        "data=csv.reader(f)  #①\n",
        "next(data)\n",
        "#data=list(data)\n",
        "\n",
        "name=input(\"인구 구조가 알고 싶은 지역의 이름(읍면동 단위)을 입력해주세요:\")\n",
        "\n",
        "for row in data:     #②\n",
        "  if name in row[0]:   #입력받은 지역의 이름이 포함된 행 찾기\n",
        "    for i in row[3:]:  #3번 인덱스 값부터 슬라이싱\n",
        "      result.append(int(i))  #입력받은 지역의 데이터를 result에 저장\n",
        "for row in data:      #④\n",
        "  print(row)          #⑤"
      ],
      "metadata": {
        "id": "FX0BdYS6HG_G"
      },
      "execution_count": null,
      "outputs": []
    },
    {
      "cell_type": "markdown",
      "source": [
        "값을 입력해도 아무것도 출력되지 않는다.\n",
        "①에서 읽어온 데이터는 ②를 거치면서 처음부터 마지막 줄까지 한줄씩 아래로 읽힙니다. ③의 for반복문이 끝난후에는 더 이상 읽을수 있는 데이터가 없습니다. 그런상태에서 ④~⑤에서 다시 데이터를 읽으려고 하니 읽은 데이터가 없는것이지요   \n",
        "\n",
        " 이 문제를 해결하기 위해 데이터를 리스트로 저장하는 것   \n",
        " data=list(data)"
      ],
      "metadata": {
        "id": "67d6vthaqokE"
      }
    },
    {
      "cell_type": "markdown",
      "source": [
        "**4. 궁금한 지역의 인구 구조와 가장 비슷한 인구 구조를 가진 지역 찾기**   \n",
        "특정 지역의 인구 구조와 가장 비슷한 인구 구조를 가진 지역을 어떻게 찾을 수 있을까?   \n",
        "만약 궁금한 지역을 A, 비교할 지역을 B라고 하면   \n",
        "A의 0세 인구수와 B의 0세 인구수의 차이,   \n",
        "A의 1세 인구수와 B의 1세 인구수의 차이,   \n",
        "A의 100세 인구수와 B의 100세 인구수의 차이를 모두 더했을 때 그 차이가 가장 작은 지역을 찾으면 어떨까?   \n",
        "   \n",
        "알고리즘-   \n",
        "1) 전국의 모든 지역 중 한곳 (B)을 선택한다.   \n",
        "2) 궁금한 지역 A의 0세 인구비율에서 B의 0세 인구비율을 뺀다.(비율:해당 연령대별 인구수/그 지역의 전체인구수) 2번 인덱스에 전체 인구수가 저장되어 있음.   \n",
        "3) 2)를 100세 이상 인구소에 해당하는 값까지 반복한 후 각각의 차이를 모두 더한다.   \n",
        "4) 전국의 모든 지역에 대해 반복하여 그 차이가 가장 작은 지역을 찾는다.   "
      ],
      "metadata": {
        "id": "KmB9_rIqpkqh"
      }
    },
    {
      "cell_type": "markdown",
      "source": [
        "# 5. ![캡처.JPG](data:image/jpeg;base64,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)"
      ],
      "metadata": {
        "id": "mI0W7jR7ToYC"
      }
    },
    {
      "cell_type": "code",
      "source": [
        "import numpy as np\n",
        "import csv\n",
        "\n",
        "#① 데이터를 읽어온다\n",
        "f=open('age.csv')\n",
        "data=csv.reader(f)\n",
        "next(data)\n",
        "data=list(data)\n",
        "\n",
        "#② 궁금한 지역의 이름을 입력한다.\n",
        "name=input(\"인구 구조가 알고 싶은 지역의 이름(읍면동 단위)을 입력해주세요:\")\n",
        "\n",
        "\n",
        "mn=1                # 최솟값을 저장할 변수 생성 및 초기화\n",
        "result_name=''      # 최솟값을 갖는 지역의 이름을 저장할 변수 생성 및 초기화\n",
        "result=0            # 최솟값을 갖는 지역의 연령대별 인구 비율을 저장할 배열 생성 및 초기화\n",
        "\n",
        "#③ 궁금한 지역의 인구 구조를 저장한다.\n",
        "for row in data:     #\n",
        "  if name in row[0]:\n",
        "    home = np.array(row[3:], dtype=int)/int(row[2])   # (1) 사용자로부터 입력받은 지역의 인구 비율을 home에 저장한다.\n",
        "\n",
        "\n",
        "#④ 궁금한 지역의 인구 구조와 가장 비슷한 인구 구조를 가진 지역을 찾는다.\n",
        "for row in data:                                      # (6) 최솟값을 갖는 지역의 이름과 해당 지역의 연령대별 인구 비율 값을 저장한다. 이과정을 전체 데이터에 대해 반복한다.\n",
        "  away=np.array(row[3:], dtype=int)/int(row[2])       # (2) 다른 지역의 인구 비율을 away에 저장\n",
        "  s=np.sum((home-away)**2)                            # (3) home에 저장된 값과 away에 저장된 값의 차이이 합을 계산한 후 제곱한다.\n",
        "  if s<mn and name not in row[0]:                     # (4) if 조건문 안에서는 위에서 계산한 합이 최솟값인지 확인하고, not in 연산을 사용:입력받은 이름과 같은 이름이 아닌 데이터 중에서 최솟값을 찾도록 한다. #자기자신을 제외한 지역에 대해서만 찾도록 한다.\n",
        "     mn=s                                             # (5) 만약 최솟값이라면 변수 mn의값을 갱신한다.\n",
        "     result_name=row[0]\n",
        "     result=away\n",
        "\n",
        "\n",
        "#⑤ 궁금한 지역의 인구 구조와 가장 비슷한 곳의 인구 구조를 시각화 한다.\n",
        "import matplotlib.pyplot as plt\n",
        "plt.style.use('ggplot')\n",
        "plt.figure(figsize=(10,5), dpi=300)\n",
        "plt.rc('font', family = 'NanumGothic')\n",
        "plt.title(name+\"지역과 가장 비슷한 인구 구조를 가진 지역\")\n",
        "plt.plot(home, label=name)\n",
        "plt.plot(result, label=result_name)\n",
        "plt.legend()\n",
        "plt.show()\n",
        "\n",
        "\n",
        "\n",
        ""
      ],
      "metadata": {
        "id": "nfgDOFKbqnYg"
      },
      "execution_count": null,
      "outputs": []
    }
  ]
}